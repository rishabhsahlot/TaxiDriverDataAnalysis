{
 "cells": [
  {
   "cell_type": "code",
   "execution_count": 1,
   "metadata": {},
   "outputs": [],
   "source": [
    "import pymongo\n",
    "import pandas as pd\n",
    "from pymongo import MongoClient\n",
    "import time\n",
    "import os"
   ]
  },
  {
   "cell_type": "code",
   "execution_count": 2,
   "metadata": {},
   "outputs": [],
   "source": [
    "link_data_path = 'LinkData'\n",
    "processed_data_path = 'ProcessedData'\n",
    "raw_data_path = 'RawData'\n",
    "client = MongoClient()\n",
    "db = client['taxi_data2']"
   ]
  },
  {
   "cell_type": "code",
   "execution_count": null,
   "metadata": {},
   "outputs": [],
   "source": []
  },
  {
   "cell_type": "code",
   "execution_count": null,
   "metadata": {},
   "outputs": [],
   "source": []
  },
  {
   "cell_type": "code",
   "execution_count": null,
   "metadata": {},
   "outputs": [],
   "source": []
  },
  {
   "cell_type": "code",
   "execution_count": 6,
   "metadata": {},
   "outputs": [
    {
     "name": "stdout",
     "output_type": "stream",
     "text": [
      "Index(['RowId', 'College ID', 'Location ID'], dtype='object')\n",
      "Index(['ID', 'NYPD Precinct', 'Corresponding_Taxi_Zones'], dtype='object')\n",
      "Index(['RowID', 'LocationID', 'Borough', 'Zone', 'service_zone'], dtype='object')\n"
     ]
    }
   ],
   "source": [
    "# Loading Link Data\n",
    "directory = link_data_path\n",
    "\n",
    "\n",
    "for filename in os.listdir(directory):\n",
    "    if filename.endswith('.csv'):\n",
    "        df = pd.read_csv(directory+\"/\"+filename)\n",
    "        print(df.columns)\n",
    "        coll = db[filename[:-4]]\n",
    "        df.rename( columns={df.columns[0]:'_id'}, inplace=True )\n",
    "        if(filename=='taxi_with_precinct.csv'):\n",
    "            df['Corresponding_Taxi_Zones'] = list( map(lambda x: list(map(int,x.split('|'))),df['Corresponding_Taxi_Zones'].values))\n",
    "        df = df.to_dict(\"records\")\n",
    "        coll.insert_many(df)\n",
    "    else:\n",
    "        continue"
   ]
  },
  {
   "cell_type": "code",
   "execution_count": 7,
   "metadata": {},
   "outputs": [
    {
     "name": "stdout",
     "output_type": "stream",
     "text": [
      "Index(['Unnamed: 0', 'ARREST_KEY', 'ARREST_DATE', 'PD_CD', 'PD_DESC', 'KY_CD',\n",
      "       'OFNS_DESC', 'LAW_CODE', 'LAW_CAT_CD', 'ARREST_BORO', 'ARREST_PRECINCT',\n",
      "       'JURISDICTION_CODE', 'AGE_GROUP', 'PERP_SEX', 'PERP_RACE', 'X_COORD_CD',\n",
      "       'Y_COORD_CD', 'Latitude', 'Longitude', 'year of crime',\n",
      "       'month of crime'],\n",
      "      dtype='object')\n",
      "Index(['Unnamed: 0', 'VendorID', 'tpep_pickup_datetime',\n",
      "       'tpep_dropoff_datetime', 'passenger_count', 'trip_distance',\n",
      "       'RatecodeID', 'store_and_fwd_flag', 'PULocationID', 'DOLocationID',\n",
      "       'payment_type', 'fare_amount', 'extra', 'mta_tax', 'tip_amount',\n",
      "       'tolls_amount', 'improvement_surcharge', 'total_amount',\n",
      "       'congestion_surcharge', 'Hour of pick up', 'Hour of drop off'],\n",
      "      dtype='object')\n"
     ]
    }
   ],
   "source": [
    "# Loading Link Data\n",
    "directory = processed_data_path\n",
    "\n",
    "for filename in os.listdir(directory):\n",
    "    if filename.endswith('.csv'):\n",
    "        df = pd.read_csv(directory+\"/\"+filename)\n",
    "        print(df.columns)\n",
    "        coll = db[filename[:-4]]\n",
    "        df.rename( columns={df.columns[0]:'_id'}, inplace=True )\n",
    "        df = df.to_dict(\"records\")\n",
    "        coll.insert_many(df)\n",
    "    else:\n",
    "        continue"
   ]
  },
  {
   "cell_type": "code",
   "execution_count": null,
   "metadata": {},
   "outputs": [],
   "source": [
    "df = pd.read_csv(raw_data_path+'/cuny_locations.csv')\n",
    "print(df.columns)\n",
    "coll = db[filename[:-4]]\n",
    "df.rename( columns={df.columns[0]:'_id'}, inplace=True )\n",
    "df = df.to_dict(\"records\")\n",
    "coll.insert_many(df)"
   ]
  }
 ],
 "metadata": {
  "kernelspec": {
   "display_name": "Python 3",
   "language": "python",
   "name": "python3"
  },
  "language_info": {
   "codemirror_mode": {
    "name": "ipython",
    "version": 3
   },
   "file_extension": ".py",
   "mimetype": "text/x-python",
   "name": "python",
   "nbconvert_exporter": "python",
   "pygments_lexer": "ipython3",
   "version": "3.7.5"
  }
 },
 "nbformat": 4,
 "nbformat_minor": 4
}
